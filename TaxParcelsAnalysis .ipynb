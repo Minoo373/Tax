{
 "cells": [
  {
   "cell_type": "markdown",
   "metadata": {},
   "source": [
    "# Library "
   ]
  },
  {
   "cell_type": "code",
   "execution_count": 58,
   "metadata": {},
   "outputs": [],
   "source": [
    "import arcpy\n",
    "import numpy as np\n",
    "import os\n",
    "from arcgis.gis import GIS\n",
    "from arcgis.geometry import Geometry\n",
    "import matplotlib.pyplot as plt\n",
    "from arcgis.geometry import Point\n",
    "import pandas as pd\n",
    "\n",
    "pd.options.display.max_columns = None #if you have a long dataframe you can see all of it "
   ]
  },
  {
   "cell_type": "code",
   "execution_count": 5,
   "metadata": {},
   "outputs": [],
   "source": [
    "arcpy.env.workspace= r'C:\\Users\\Minoo\\Documents\\Internship\\TaxParcelExploration\\TaxParcelTooele.gdb'\n",
    "arcpy.env.overwriteOutput = True"
   ]
  },
  {
   "cell_type": "code",
   "execution_count": 14,
   "metadata": {},
   "outputs": [],
   "source": [
    "\n",
    "# show all columns\n",
    "BoxElder = pd.DataFrame.spatial.from_featureclass(r\"C:\\Users\\Minoo\\Documents\\Internship\\TaxParcelExploration\\Work\\BoxElder\\housing_unit_inventory_2022_20240725.gdb\\housing_unit_inventory_box_elder_2020\")  #reads the spatial data\n",
    " "
   ]
  },
  {
   "cell_type": "code",
   "execution_count": 16,
   "metadata": {},
   "outputs": [
    {
     "data": {
      "text/html": [
       "<div>\n",
       "<style scoped>\n",
       "    .dataframe tbody tr th:only-of-type {\n",
       "        vertical-align: middle;\n",
       "    }\n",
       "\n",
       "    .dataframe tbody tr th {\n",
       "        vertical-align: top;\n",
       "    }\n",
       "\n",
       "    .dataframe thead th {\n",
       "        text-align: right;\n",
       "    }\n",
       "</style>\n",
       "<table border=\"1\" class=\"dataframe\">\n",
       "  <thead>\n",
       "    <tr style=\"text-align: right;\">\n",
       "      <th></th>\n",
       "      <th>OBJECTID</th>\n",
       "      <th>UNIT_ID</th>\n",
       "      <th>TYPE</th>\n",
       "      <th>SUBTYPE</th>\n",
       "      <th>UNIT_COUNT</th>\n",
       "      <th>ACRES</th>\n",
       "      <th>APX_BLT_YR</th>\n",
       "      <th>DUA</th>\n",
       "      <th>IS_OUG</th>\n",
       "      <th>TOT_BD_FT2</th>\n",
       "      <th>TOT_VALUE</th>\n",
       "      <th>CITY</th>\n",
       "      <th>COUNTY</th>\n",
       "      <th>SUBCOUNTY</th>\n",
       "      <th>VINTAGE</th>\n",
       "      <th>BLT_DECADE</th>\n",
       "      <th>SHAPE</th>\n",
       "    </tr>\n",
       "  </thead>\n",
       "  <tbody>\n",
       "    <tr>\n",
       "      <th>0</th>\n",
       "      <td>1</td>\n",
       "      <td>&lt;NA&gt;</td>\n",
       "      <td>single_family</td>\n",
       "      <td>single_family</td>\n",
       "      <td>1</td>\n",
       "      <td>0.215817</td>\n",
       "      <td>1982</td>\n",
       "      <td>4.633554</td>\n",
       "      <td>0</td>\n",
       "      <td>937</td>\n",
       "      <td>40002.806583</td>\n",
       "      <td>Brigham City</td>\n",
       "      <td>Box Elder</td>\n",
       "      <td>Box Elder (WFRC)</td>\n",
       "      <td>2020</td>\n",
       "      <td>&lt;NA&gt;</td>\n",
       "      <td>{\"rings\": [[[-12469084.5998, 5086463.431000002...</td>\n",
       "    </tr>\n",
       "    <tr>\n",
       "      <th>1</th>\n",
       "      <td>2</td>\n",
       "      <td>&lt;NA&gt;</td>\n",
       "      <td>single_family</td>\n",
       "      <td>single_family</td>\n",
       "      <td>1</td>\n",
       "      <td>0.197022</td>\n",
       "      <td>1975</td>\n",
       "      <td>5.075581</td>\n",
       "      <td>0</td>\n",
       "      <td>906</td>\n",
       "      <td>40002.618578</td>\n",
       "      <td>Brigham City</td>\n",
       "      <td>Box Elder</td>\n",
       "      <td>Box Elder (WFRC)</td>\n",
       "      <td>2020</td>\n",
       "      <td>&lt;NA&gt;</td>\n",
       "      <td>{\"rings\": [[[-12469984.0386, 5090310.146600001...</td>\n",
       "    </tr>\n",
       "    <tr>\n",
       "      <th>2</th>\n",
       "      <td>3</td>\n",
       "      <td>&lt;NA&gt;</td>\n",
       "      <td>single_family</td>\n",
       "      <td>single_family</td>\n",
       "      <td>1</td>\n",
       "      <td>0.231193</td>\n",
       "      <td>1957</td>\n",
       "      <td>4.325389</td>\n",
       "      <td>0</td>\n",
       "      <td>1363</td>\n",
       "      <td>40002.653614</td>\n",
       "      <td>Brigham City</td>\n",
       "      <td>Box Elder</td>\n",
       "      <td>Box Elder (WFRC)</td>\n",
       "      <td>2020</td>\n",
       "      <td>&lt;NA&gt;</td>\n",
       "      <td>{\"rings\": [[[-12467734.5439, 5088583.539300002...</td>\n",
       "    </tr>\n",
       "    <tr>\n",
       "      <th>3</th>\n",
       "      <td>4</td>\n",
       "      <td>&lt;NA&gt;</td>\n",
       "      <td>single_family</td>\n",
       "      <td>single_family</td>\n",
       "      <td>1</td>\n",
       "      <td>0.24554</td>\n",
       "      <td>1908</td>\n",
       "      <td>4.072662</td>\n",
       "      <td>0</td>\n",
       "      <td>1357</td>\n",
       "      <td>65004.943783</td>\n",
       "      <td>Perry</td>\n",
       "      <td>Box Elder</td>\n",
       "      <td>Box Elder (WFRC)</td>\n",
       "      <td>2020</td>\n",
       "      <td>&lt;NA&gt;</td>\n",
       "      <td>{\"rings\": [[[-12471364.313000001, 5081462.0619...</td>\n",
       "    </tr>\n",
       "    <tr>\n",
       "      <th>4</th>\n",
       "      <td>5</td>\n",
       "      <td>&lt;NA&gt;</td>\n",
       "      <td>single_family</td>\n",
       "      <td>single_family</td>\n",
       "      <td>1</td>\n",
       "      <td>0.341682</td>\n",
       "      <td>1997</td>\n",
       "      <td>2.9267</td>\n",
       "      <td>0</td>\n",
       "      <td>2595</td>\n",
       "      <td>64989.700538</td>\n",
       "      <td>Perry</td>\n",
       "      <td>Box Elder</td>\n",
       "      <td>Box Elder (WFRC)</td>\n",
       "      <td>2020</td>\n",
       "      <td>&lt;NA&gt;</td>\n",
       "      <td>{\"rings\": [[[-12470304.575, 5081584.3015], [-1...</td>\n",
       "    </tr>\n",
       "  </tbody>\n",
       "</table>\n",
       "</div>"
      ],
      "text/plain": [
       "   OBJECTID  UNIT_ID           TYPE        SUBTYPE  UNIT_COUNT     ACRES  \\\n",
       "0         1     <NA>  single_family  single_family           1  0.215817   \n",
       "1         2     <NA>  single_family  single_family           1  0.197022   \n",
       "2         3     <NA>  single_family  single_family           1  0.231193   \n",
       "3         4     <NA>  single_family  single_family           1   0.24554   \n",
       "4         5     <NA>  single_family  single_family           1  0.341682   \n",
       "\n",
       "   APX_BLT_YR       DUA  IS_OUG  TOT_BD_FT2     TOT_VALUE          CITY  \\\n",
       "0        1982  4.633554       0         937  40002.806583  Brigham City   \n",
       "1        1975  5.075581       0         906  40002.618578  Brigham City   \n",
       "2        1957  4.325389       0        1363  40002.653614  Brigham City   \n",
       "3        1908  4.072662       0        1357  65004.943783         Perry   \n",
       "4        1997    2.9267       0        2595  64989.700538         Perry   \n",
       "\n",
       "      COUNTY         SUBCOUNTY  VINTAGE  BLT_DECADE  \\\n",
       "0  Box Elder  Box Elder (WFRC)     2020        <NA>   \n",
       "1  Box Elder  Box Elder (WFRC)     2020        <NA>   \n",
       "2  Box Elder  Box Elder (WFRC)     2020        <NA>   \n",
       "3  Box Elder  Box Elder (WFRC)     2020        <NA>   \n",
       "4  Box Elder  Box Elder (WFRC)     2020        <NA>   \n",
       "\n",
       "                                               SHAPE  \n",
       "0  {\"rings\": [[[-12469084.5998, 5086463.431000002...  \n",
       "1  {\"rings\": [[[-12469984.0386, 5090310.146600001...  \n",
       "2  {\"rings\": [[[-12467734.5439, 5088583.539300002...  \n",
       "3  {\"rings\": [[[-12471364.313000001, 5081462.0619...  \n",
       "4  {\"rings\": [[[-12470304.575, 5081584.3015], [-1...  "
      ]
     },
     "execution_count": 16,
     "metadata": {},
     "output_type": "execute_result"
    }
   ],
   "source": [
    "BoxElder.head()\n"
   ]
  },
  {
   "cell_type": "code",
   "execution_count": 34,
   "metadata": {},
   "outputs": [
    {
     "data": {
      "text/plain": [
       "OBJECTID                      Int64\n",
       "UNIT_ID                       Int64\n",
       "TYPE                 string[python]\n",
       "SUBTYPE              string[python]\n",
       "UNIT_COUNT                    Int64\n",
       "ACRES                       Float64\n",
       "APX_BLT_YR                    Int64\n",
       "DUA                         Float64\n",
       "IS_OUG                        Int64\n",
       "TOT_BD_FT2                    Int64\n",
       "TOT_VALUE                   Float64\n",
       "CITY                 string[python]\n",
       "COUNTY               string[python]\n",
       "SUBCOUNTY            string[python]\n",
       "VINTAGE                       Int64\n",
       "BLT_DECADE                    Int32\n",
       "SHAPE                      geometry\n",
       "BuiltYearCategory           float64\n",
       "dtype: object"
      ]
     },
     "execution_count": 34,
     "metadata": {},
     "output_type": "execute_result"
    }
   ],
   "source": [
    "BoxElder.dtypes"
   ]
  },
  {
   "cell_type": "code",
   "execution_count": 18,
   "metadata": {},
   "outputs": [
    {
     "data": {
      "text/html": [
       "<div>\n",
       "<style scoped>\n",
       "    .dataframe tbody tr th:only-of-type {\n",
       "        vertical-align: middle;\n",
       "    }\n",
       "\n",
       "    .dataframe tbody tr th {\n",
       "        vertical-align: top;\n",
       "    }\n",
       "\n",
       "    .dataframe thead th {\n",
       "        text-align: right;\n",
       "    }\n",
       "</style>\n",
       "<table border=\"1\" class=\"dataframe\">\n",
       "  <thead>\n",
       "    <tr style=\"text-align: right;\">\n",
       "      <th></th>\n",
       "      <th>OBJECTID</th>\n",
       "      <th>UNIT_ID</th>\n",
       "      <th>TYPE</th>\n",
       "      <th>SUBTYPE</th>\n",
       "      <th>UNIT_COUNT</th>\n",
       "      <th>ACRES</th>\n",
       "      <th>APX_BLT_YR</th>\n",
       "      <th>DUA</th>\n",
       "      <th>IS_OUG</th>\n",
       "      <th>TOT_BD_FT2</th>\n",
       "      <th>TOT_VALUE</th>\n",
       "      <th>CITY</th>\n",
       "      <th>COUNTY</th>\n",
       "      <th>SUBCOUNTY</th>\n",
       "      <th>VINTAGE</th>\n",
       "      <th>BLT_DECADE</th>\n",
       "      <th>SHAPE</th>\n",
       "    </tr>\n",
       "  </thead>\n",
       "  <tbody>\n",
       "    <tr>\n",
       "      <th>8635</th>\n",
       "      <td>8729</td>\n",
       "      <td>&lt;NA&gt;</td>\n",
       "      <td>multi_family</td>\n",
       "      <td>apartment</td>\n",
       "      <td>16</td>\n",
       "      <td>0.777479</td>\n",
       "      <td>1980</td>\n",
       "      <td>20.579328</td>\n",
       "      <td>1</td>\n",
       "      <td>3240</td>\n",
       "      <td>1056000.0</td>\n",
       "      <td>Brigham City</td>\n",
       "      <td>Box Elder</td>\n",
       "      <td>Box Elder (WFRC)</td>\n",
       "      <td>2020</td>\n",
       "      <td>&lt;NA&gt;</td>\n",
       "      <td>{\"rings\": [[[-12469659.5915, 5090219.646899998...</td>\n",
       "    </tr>\n",
       "    <tr>\n",
       "      <th>8636</th>\n",
       "      <td>8730</td>\n",
       "      <td>&lt;NA&gt;</td>\n",
       "      <td>multi_family</td>\n",
       "      <td>apartment</td>\n",
       "      <td>26</td>\n",
       "      <td>1.241981</td>\n",
       "      <td>1984</td>\n",
       "      <td>20.934295</td>\n",
       "      <td>1</td>\n",
       "      <td>18597</td>\n",
       "      <td>1023670.0</td>\n",
       "      <td>Brigham City</td>\n",
       "      <td>Box Elder</td>\n",
       "      <td>Box Elder (WFRC)</td>\n",
       "      <td>2020</td>\n",
       "      <td>&lt;NA&gt;</td>\n",
       "      <td>{\"rings\": [[[-12469485.149799999, 5090349.8760...</td>\n",
       "    </tr>\n",
       "    <tr>\n",
       "      <th>8637</th>\n",
       "      <td>8731</td>\n",
       "      <td>&lt;NA&gt;</td>\n",
       "      <td>multi_family</td>\n",
       "      <td>apartment</td>\n",
       "      <td>15</td>\n",
       "      <td>0.610918</td>\n",
       "      <td>2010</td>\n",
       "      <td>24.553207</td>\n",
       "      <td>1</td>\n",
       "      <td>15883</td>\n",
       "      <td>3776662.0</td>\n",
       "      <td>Brigham City</td>\n",
       "      <td>Box Elder</td>\n",
       "      <td>Box Elder (WFRC)</td>\n",
       "      <td>2020</td>\n",
       "      <td>&lt;NA&gt;</td>\n",
       "      <td>{\"rings\": [[[-12470093.5709, 5090622.515199996...</td>\n",
       "    </tr>\n",
       "    <tr>\n",
       "      <th>8638</th>\n",
       "      <td>8732</td>\n",
       "      <td>&lt;NA&gt;</td>\n",
       "      <td>multi_family</td>\n",
       "      <td>townhome</td>\n",
       "      <td>8</td>\n",
       "      <td>3.306092</td>\n",
       "      <td>2009</td>\n",
       "      <td>2.419775</td>\n",
       "      <td>1</td>\n",
       "      <td>13472</td>\n",
       "      <td>4018576.0</td>\n",
       "      <td>Brigham City</td>\n",
       "      <td>Box Elder</td>\n",
       "      <td>Box Elder (WFRC)</td>\n",
       "      <td>2020</td>\n",
       "      <td>&lt;NA&gt;</td>\n",
       "      <td>{\"rings\": [[[-12469186.407499999, 5091349.7871...</td>\n",
       "    </tr>\n",
       "    <tr>\n",
       "      <th>8639</th>\n",
       "      <td>8733</td>\n",
       "      <td>&lt;NA&gt;</td>\n",
       "      <td>single_family</td>\n",
       "      <td>single_family</td>\n",
       "      <td>1</td>\n",
       "      <td>0.072245</td>\n",
       "      <td>&lt;NA&gt;</td>\n",
       "      <td>&lt;NA&gt;</td>\n",
       "      <td>0</td>\n",
       "      <td>1032</td>\n",
       "      <td>244256.0</td>\n",
       "      <td>Brigham City</td>\n",
       "      <td>Box Elder</td>\n",
       "      <td>Box Elder (WFRC)</td>\n",
       "      <td>2020</td>\n",
       "      <td>&lt;NA&gt;</td>\n",
       "      <td>{\"rings\": [[[-12468872.7196, 5085507.718599997...</td>\n",
       "    </tr>\n",
       "  </tbody>\n",
       "</table>\n",
       "</div>"
      ],
      "text/plain": [
       "      OBJECTID  UNIT_ID           TYPE        SUBTYPE  UNIT_COUNT     ACRES  \\\n",
       "8635      8729     <NA>   multi_family      apartment          16  0.777479   \n",
       "8636      8730     <NA>   multi_family      apartment          26  1.241981   \n",
       "8637      8731     <NA>   multi_family      apartment          15  0.610918   \n",
       "8638      8732     <NA>   multi_family       townhome           8  3.306092   \n",
       "8639      8733     <NA>  single_family  single_family           1  0.072245   \n",
       "\n",
       "      APX_BLT_YR        DUA  IS_OUG  TOT_BD_FT2  TOT_VALUE          CITY  \\\n",
       "8635        1980  20.579328       1        3240  1056000.0  Brigham City   \n",
       "8636        1984  20.934295       1       18597  1023670.0  Brigham City   \n",
       "8637        2010  24.553207       1       15883  3776662.0  Brigham City   \n",
       "8638        2009   2.419775       1       13472  4018576.0  Brigham City   \n",
       "8639        <NA>       <NA>       0        1032   244256.0  Brigham City   \n",
       "\n",
       "         COUNTY         SUBCOUNTY  VINTAGE  BLT_DECADE  \\\n",
       "8635  Box Elder  Box Elder (WFRC)     2020        <NA>   \n",
       "8636  Box Elder  Box Elder (WFRC)     2020        <NA>   \n",
       "8637  Box Elder  Box Elder (WFRC)     2020        <NA>   \n",
       "8638  Box Elder  Box Elder (WFRC)     2020        <NA>   \n",
       "8639  Box Elder  Box Elder (WFRC)     2020        <NA>   \n",
       "\n",
       "                                                  SHAPE  \n",
       "8635  {\"rings\": [[[-12469659.5915, 5090219.646899998...  \n",
       "8636  {\"rings\": [[[-12469485.149799999, 5090349.8760...  \n",
       "8637  {\"rings\": [[[-12470093.5709, 5090622.515199996...  \n",
       "8638  {\"rings\": [[[-12469186.407499999, 5091349.7871...  \n",
       "8639  {\"rings\": [[[-12468872.7196, 5085507.718599997...  "
      ]
     },
     "execution_count": 18,
     "metadata": {},
     "output_type": "execute_result"
    }
   ],
   "source": [
    "BoxElder.tail()"
   ]
  },
  {
   "cell_type": "code",
   "execution_count": 19,
   "metadata": {},
   "outputs": [
    {
     "data": {
      "text/plain": [
       "(8640, 17)"
      ]
     },
     "execution_count": 19,
     "metadata": {},
     "output_type": "execute_result"
    }
   ],
   "source": [
    "BoxElder.shape #number of rows and columns"
   ]
  },
  {
   "cell_type": "code",
   "execution_count": 30,
   "metadata": {},
   "outputs": [
    {
     "data": {
      "text/plain": [
       "Index(['OBJECTID', 'UNIT_ID', 'TYPE', 'SUBTYPE', 'UNIT_COUNT', 'ACRES',\n",
       "       'APX_BLT_YR', 'DUA', 'IS_OUG', 'TOT_BD_FT2', 'TOT_VALUE', 'CITY',\n",
       "       'COUNTY', 'SUBCOUNTY', 'VINTAGE', 'BLT_DECADE', 'SHAPE',\n",
       "       'BuiltYearCategory'],\n",
       "      dtype='object')"
      ]
     },
     "execution_count": 30,
     "metadata": {},
     "output_type": "execute_result"
    }
   ],
   "source": [
    "BoxElder.columns"
   ]
  },
  {
   "cell_type": "code",
   "execution_count": 21,
   "metadata": {},
   "outputs": [
    {
     "data": {
      "text/plain": [
       "SUBTYPE\n",
       "single_family       8490\n",
       "apartment             63\n",
       "duplex                51\n",
       "townhome              21\n",
       "mobile_home_park      10\n",
       "condo                  5\n",
       "Name: count, dtype: Int64"
      ]
     },
     "execution_count": 21,
     "metadata": {},
     "output_type": "execute_result"
    }
   ],
   "source": [
    "BoxElder[\"SUBTYPE\"].value_counts()"
   ]
  },
  {
   "cell_type": "code",
   "execution_count": 24,
   "metadata": {},
   "outputs": [
    {
     "data": {
      "text/plain": [
       "APX_BLT_YR\n",
       "1959    439\n",
       "1961    318\n",
       "1960    306\n",
       "1962    288\n",
       "9999    261\n",
       "       ... \n",
       "1877      1\n",
       "1881      1\n",
       "1867      1\n",
       "1876      1\n",
       "2016      1\n",
       "Name: count, Length: 146, dtype: Int64"
      ]
     },
     "execution_count": 24,
     "metadata": {},
     "output_type": "execute_result"
    }
   ],
   "source": [
    "BoxElder[\"APX_BLT_YR\"].value_counts()  #count of the records "
   ]
  },
  {
   "cell_type": "markdown",
   "metadata": {},
   "source": []
  },
  {
   "cell_type": "code",
   "execution_count": 28,
   "metadata": {},
   "outputs": [],
   "source": [
    "BoxElder[\"BuiltYearCategory\"] = np.nan\n"
   ]
  },
  {
   "cell_type": "code",
   "execution_count": 49,
   "metadata": {},
   "outputs": [
    {
     "data": {
      "text/html": [
       "<div>\n",
       "<style scoped>\n",
       "    .dataframe tbody tr th:only-of-type {\n",
       "        vertical-align: middle;\n",
       "    }\n",
       "\n",
       "    .dataframe tbody tr th {\n",
       "        vertical-align: top;\n",
       "    }\n",
       "\n",
       "    .dataframe thead th {\n",
       "        text-align: right;\n",
       "    }\n",
       "</style>\n",
       "<table border=\"1\" class=\"dataframe\">\n",
       "  <thead>\n",
       "    <tr style=\"text-align: right;\">\n",
       "      <th></th>\n",
       "      <th>OBJECTID</th>\n",
       "      <th>UNIT_ID</th>\n",
       "      <th>TYPE</th>\n",
       "      <th>SUBTYPE</th>\n",
       "      <th>UNIT_COUNT</th>\n",
       "      <th>ACRES</th>\n",
       "      <th>APX_BLT_YR</th>\n",
       "      <th>DUA</th>\n",
       "      <th>IS_OUG</th>\n",
       "      <th>TOT_BD_FT2</th>\n",
       "      <th>TOT_VALUE</th>\n",
       "      <th>CITY</th>\n",
       "      <th>COUNTY</th>\n",
       "      <th>SUBCOUNTY</th>\n",
       "      <th>VINTAGE</th>\n",
       "      <th>BLT_DECADE</th>\n",
       "      <th>SHAPE</th>\n",
       "      <th>BuiltYearCategory</th>\n",
       "    </tr>\n",
       "  </thead>\n",
       "  <tbody>\n",
       "    <tr>\n",
       "      <th>0</th>\n",
       "      <td>1</td>\n",
       "      <td>&lt;NA&gt;</td>\n",
       "      <td>single_family</td>\n",
       "      <td>single_family</td>\n",
       "      <td>1</td>\n",
       "      <td>0.215817</td>\n",
       "      <td>1982</td>\n",
       "      <td>4.633554</td>\n",
       "      <td>0</td>\n",
       "      <td>937</td>\n",
       "      <td>40002.806583</td>\n",
       "      <td>Brigham City</td>\n",
       "      <td>Box Elder</td>\n",
       "      <td>Box Elder (WFRC)</td>\n",
       "      <td>2020</td>\n",
       "      <td>&lt;NA&gt;</td>\n",
       "      <td>{\"rings\": [[[-12469084.5998, 5086463.431000002...</td>\n",
       "      <td>1890-2000</td>\n",
       "    </tr>\n",
       "    <tr>\n",
       "      <th>1</th>\n",
       "      <td>2</td>\n",
       "      <td>&lt;NA&gt;</td>\n",
       "      <td>single_family</td>\n",
       "      <td>single_family</td>\n",
       "      <td>1</td>\n",
       "      <td>0.197022</td>\n",
       "      <td>1975</td>\n",
       "      <td>5.075581</td>\n",
       "      <td>0</td>\n",
       "      <td>906</td>\n",
       "      <td>40002.618578</td>\n",
       "      <td>Brigham City</td>\n",
       "      <td>Box Elder</td>\n",
       "      <td>Box Elder (WFRC)</td>\n",
       "      <td>2020</td>\n",
       "      <td>&lt;NA&gt;</td>\n",
       "      <td>{\"rings\": [[[-12469984.0386, 5090310.146600001...</td>\n",
       "      <td>1890-2000</td>\n",
       "    </tr>\n",
       "    <tr>\n",
       "      <th>2</th>\n",
       "      <td>3</td>\n",
       "      <td>&lt;NA&gt;</td>\n",
       "      <td>single_family</td>\n",
       "      <td>single_family</td>\n",
       "      <td>1</td>\n",
       "      <td>0.231193</td>\n",
       "      <td>1957</td>\n",
       "      <td>4.325389</td>\n",
       "      <td>0</td>\n",
       "      <td>1363</td>\n",
       "      <td>40002.653614</td>\n",
       "      <td>Brigham City</td>\n",
       "      <td>Box Elder</td>\n",
       "      <td>Box Elder (WFRC)</td>\n",
       "      <td>2020</td>\n",
       "      <td>&lt;NA&gt;</td>\n",
       "      <td>{\"rings\": [[[-12467734.5439, 5088583.539300002...</td>\n",
       "      <td>1890-2000</td>\n",
       "    </tr>\n",
       "    <tr>\n",
       "      <th>3</th>\n",
       "      <td>4</td>\n",
       "      <td>&lt;NA&gt;</td>\n",
       "      <td>single_family</td>\n",
       "      <td>single_family</td>\n",
       "      <td>1</td>\n",
       "      <td>0.24554</td>\n",
       "      <td>1908</td>\n",
       "      <td>4.072662</td>\n",
       "      <td>0</td>\n",
       "      <td>1357</td>\n",
       "      <td>65004.943783</td>\n",
       "      <td>Perry</td>\n",
       "      <td>Box Elder</td>\n",
       "      <td>Box Elder (WFRC)</td>\n",
       "      <td>2020</td>\n",
       "      <td>&lt;NA&gt;</td>\n",
       "      <td>{\"rings\": [[[-12471364.313000001, 5081462.0619...</td>\n",
       "      <td>1890-2000</td>\n",
       "    </tr>\n",
       "    <tr>\n",
       "      <th>4</th>\n",
       "      <td>5</td>\n",
       "      <td>&lt;NA&gt;</td>\n",
       "      <td>single_family</td>\n",
       "      <td>single_family</td>\n",
       "      <td>1</td>\n",
       "      <td>0.341682</td>\n",
       "      <td>1997</td>\n",
       "      <td>2.9267</td>\n",
       "      <td>0</td>\n",
       "      <td>2595</td>\n",
       "      <td>64989.700538</td>\n",
       "      <td>Perry</td>\n",
       "      <td>Box Elder</td>\n",
       "      <td>Box Elder (WFRC)</td>\n",
       "      <td>2020</td>\n",
       "      <td>&lt;NA&gt;</td>\n",
       "      <td>{\"rings\": [[[-12470304.575, 5081584.3015], [-1...</td>\n",
       "      <td>1890-2000</td>\n",
       "    </tr>\n",
       "  </tbody>\n",
       "</table>\n",
       "</div>"
      ],
      "text/plain": [
       "   OBJECTID  UNIT_ID           TYPE        SUBTYPE  UNIT_COUNT     ACRES  \\\n",
       "0         1     <NA>  single_family  single_family           1  0.215817   \n",
       "1         2     <NA>  single_family  single_family           1  0.197022   \n",
       "2         3     <NA>  single_family  single_family           1  0.231193   \n",
       "3         4     <NA>  single_family  single_family           1   0.24554   \n",
       "4         5     <NA>  single_family  single_family           1  0.341682   \n",
       "\n",
       "   APX_BLT_YR       DUA  IS_OUG  TOT_BD_FT2     TOT_VALUE          CITY  \\\n",
       "0        1982  4.633554       0         937  40002.806583  Brigham City   \n",
       "1        1975  5.075581       0         906  40002.618578  Brigham City   \n",
       "2        1957  4.325389       0        1363  40002.653614  Brigham City   \n",
       "3        1908  4.072662       0        1357  65004.943783         Perry   \n",
       "4        1997    2.9267       0        2595  64989.700538         Perry   \n",
       "\n",
       "      COUNTY         SUBCOUNTY  VINTAGE  BLT_DECADE  \\\n",
       "0  Box Elder  Box Elder (WFRC)     2020        <NA>   \n",
       "1  Box Elder  Box Elder (WFRC)     2020        <NA>   \n",
       "2  Box Elder  Box Elder (WFRC)     2020        <NA>   \n",
       "3  Box Elder  Box Elder (WFRC)     2020        <NA>   \n",
       "4  Box Elder  Box Elder (WFRC)     2020        <NA>   \n",
       "\n",
       "                                               SHAPE BuiltYearCategory  \n",
       "0  {\"rings\": [[[-12469084.5998, 5086463.431000002...         1890-2000  \n",
       "1  {\"rings\": [[[-12469984.0386, 5090310.146600001...         1890-2000  \n",
       "2  {\"rings\": [[[-12467734.5439, 5088583.539300002...         1890-2000  \n",
       "3  {\"rings\": [[[-12471364.313000001, 5081462.0619...         1890-2000  \n",
       "4  {\"rings\": [[[-12470304.575, 5081584.3015], [-1...         1890-2000  "
      ]
     },
     "execution_count": 49,
     "metadata": {},
     "output_type": "execute_result"
    }
   ],
   "source": [
    "BoxElder.head()"
   ]
  },
  {
   "cell_type": "code",
   "execution_count": 43,
   "metadata": {},
   "outputs": [],
   "source": [
    "#define the categories \n",
    "#regular python function \n",
    "#pandas \n",
    "\n",
    "BoxElder.loc[(BoxElder[\"APX_BLT_YR\"] >= 1870) & (BoxElder[\"APX_BLT_YR\"] < 1890),\"BuiltYearCategory\"] = \"1870-1890\" \n",
    "BoxElder.loc[(BoxElder[\"APX_BLT_YR\"] >= 1890) & (BoxElder[\"APX_BLT_YR\"] < 2000),\"BuiltYearCategory\"] = \"1890-2000\" \n",
    "BoxElder.loc[(BoxElder[\"APX_BLT_YR\"] >= 2000) & (BoxElder[\"APX_BLT_YR\"] < 2010),\"BuiltYearCategory\"] = \"2000-2010\" #set a condition using a table and copy the value if the condition is met \n",
    "BoxElder.loc[(BoxElder[\"APX_BLT_YR\"] >= 2010) & (BoxElder[\"APX_BLT_YR\"] < 2020),\"BuiltYearCategory\"] = \"2010-2020\"\n",
    "BoxElder.loc[(BoxElder[\"APX_BLT_YR\"] >= 2020) & (BoxElder[\"APX_BLT_YR\"] < 2023),\"BuiltYearCategory\"] = \"2020-2023\""
   ]
  },
  {
   "cell_type": "code",
   "execution_count": 44,
   "metadata": {},
   "outputs": [
    {
     "data": {
      "text/plain": [
       "BuiltYearCategory\n",
       "1890-2000    5780\n",
       "2000-2010    1260\n",
       "2010-2020     360\n",
       "1870-1890     116\n",
       "2020-2023       2\n",
       "Name: count, dtype: int64"
      ]
     },
     "execution_count": 44,
     "metadata": {},
     "output_type": "execute_result"
    }
   ],
   "source": [
    "BoxElder[\"BuiltYearCategory\"].value_counts()  #count of the records "
   ]
  },
  {
   "cell_type": "code",
   "execution_count": 47,
   "metadata": {},
   "outputs": [
    {
     "data": {
      "text/plain": [
       "BuiltYearCategory\n",
       "1870-1890     118\n",
       "1890-2000    6783\n",
       "2000-2010    1563\n",
       "2010-2020     521\n",
       "2020-2023      50\n",
       "Name: UNIT_COUNT, dtype: Int64"
      ]
     },
     "execution_count": 47,
     "metadata": {},
     "output_type": "execute_result"
    }
   ],
   "source": [
    "BoxElder.groupby(\"BuiltYearCategory\")[\"UNIT_COUNT\"].sum()    #aggregation "
   ]
  },
  {
   "cell_type": "code",
   "execution_count": null,
   "metadata": {},
   "outputs": [],
   "source": []
  },
  {
   "cell_type": "code",
   "execution_count": 73,
   "metadata": {},
   "outputs": [
    {
     "data": {
      "text/plain": [
       "(7803, 18)"
      ]
     },
     "execution_count": 73,
     "metadata": {},
     "output_type": "execute_result"
    }
   ],
   "source": [
    "BoxElderRemovedNA = BoxElder.dropna(subset=[\"TOT_VALUE\", \"UNIT_COUNT\", \"APX_BLT_YR\"])\n",
    "\n",
    "BoxElderRemovedNA.shape"
   ]
  },
  {
   "cell_type": "code",
   "execution_count": 80,
   "metadata": {},
   "outputs": [
    {
     "data": {
      "image/png": "[encoded data removed]",
      "text/plain": [
       "<Figure size 1000x600 with 1 Axes>"
      ]
     },
     "metadata": {},
     "output_type": "display_data"
    }
   ],
   "source": [
    "#make a chart \n",
    "plt.figure(figsize=(10, 6))  # Set the figure size\n",
    "plt.scatter(BoxElderRemovedNA['APX_BLT_YR'], BoxElderRemovedNA['TOT_VALUE'], color='blue', label='UNIT_COUNT vs TOT_VALUE')\n",
    "\n",
    "# Adding titles and labels\n",
    "plt.title('APX_BLT_YR and TOT_VALUE')\n",
    "plt.xlabel('BuiltYearCatAPX_BLT_YR')\n",
    "plt.ylabel('TOT_VALUE')\n",
    "plt.legend()\n",
    "\n",
    "# Show the plot\n",
    "plt.show()"
   ]
  }
 ],
 "metadata": {
  "kernelspec": {
   "display_name": "ArcGISPro",
   "language": "Python",
   "name": "python3"
  },
  "language_info": {
   "codemirror_mode": {
    "name": "ipython",
    "version": 3
   },
   "file_extension": ".py",
   "mimetype": "text/x-python",
   "name": "python",
   "nbconvert_exporter": "python",
   "pygments_lexer": "ipython3",
   "version": "3.9.18"
  }
 },
 "nbformat": 4,
 "nbformat_minor": 2
}
